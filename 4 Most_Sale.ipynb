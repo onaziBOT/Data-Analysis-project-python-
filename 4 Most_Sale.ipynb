{
 "cells": [
  {
   "cell_type": "markdown",
   "metadata": {},
   "source": [
    "Games with the most Sales"
   ]
  },
  {
   "cell_type": "code",
   "execution_count": 1,
   "metadata": {},
   "outputs": [],
   "source": [
    "import pandas as pd\n",
    "import matplotlib.pyplot as plt\n",
    "import seaborn as sns\n",
    "\n",
    "dataset = pd.read_csv('vgchartz-2024.csv')\n",
    "df = dataset"
   ]
  },
  {
   "cell_type": "code",
   "execution_count": 2,
   "metadata": {},
   "outputs": [
    {
     "name": "stdout",
     "output_type": "stream",
     "text": [
      "                                  title  total_sales\n",
      "13724                Grand Theft Auto V        64.29\n",
      "5266            Call of Duty: Black Ops        30.99\n",
      "5281     Call of Duty: Modern Warfare 3        30.71\n",
      "5273         Call of Duty: Black Ops II        29.59\n",
      "5277               Call of Duty: Ghosts        28.80\n",
      "5271          Call of Duty: Black Ops 3        26.72\n",
      "5280     Call of Duty: Modern Warfare 2        25.02\n",
      "20998                         Minecraft        24.01\n",
      "13719               Grand Theft Auto IV        22.53\n",
      "5265     Call of Duty: Advanced Warfare        21.78\n",
      "34036       The Elder Scrolls V: Skyrim        20.51\n",
      "5294                 Call of Duty: WWII        19.82\n",
      "27022             Red Dead Redemption 2        19.71\n",
      "5262     Call of Duty 4: Modern Warfare        18.33\n",
      "11029                           FIFA 15        18.03\n",
      "3493                      Battlefield 3        17.32\n",
      "11028                           FIFA 14        17.31\n",
      "11032                           FIFA 17        17.02\n",
      "11033                           FIFA 18        16.92\n",
      "13995  Guitar Hero III: Legends of Rock        16.38\n"
     ]
    }
   ],
   "source": [
    "#The Top20 Most Sold Games\n",
    "\n",
    "df = df.groupby(\"title\")[\"total_sales\"].sum().reset_index() .sort_values(\"total_sales\", ascending = False) .head(20)\n",
    "\n",
    "print(df)"
   ]
  }
 ],
 "metadata": {
  "kernelspec": {
   "display_name": "Python 3",
   "language": "python",
   "name": "python3"
  },
  "language_info": {
   "codemirror_mode": {
    "name": "ipython",
    "version": 3
   },
   "file_extension": ".py",
   "mimetype": "text/x-python",
   "name": "python",
   "nbconvert_exporter": "python",
   "pygments_lexer": "ipython3",
   "version": "3.11.9"
  }
 },
 "nbformat": 4,
 "nbformat_minor": 2
}
